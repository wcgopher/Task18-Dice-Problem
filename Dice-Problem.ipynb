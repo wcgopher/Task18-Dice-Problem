{
 "cells": [
  {
   "cell_type": "code",
   "execution_count": 14,
   "metadata": {
    "collapsed": true
   },
   "outputs": [],
   "source": [
    "dice = ([4,6,8,10,12,20])"
   ]
  },
  {
   "cell_type": "code",
   "execution_count": 18,
   "metadata": {},
   "outputs": [
    {
     "name": "stdout",
     "output_type": "stream",
     "text": [
      "P(4) =  0.25\n",
      "P(6) =  0.16666666666666666\n",
      "P(8) =  0.125\n",
      "P(10) =  0.1\n",
      "P(12) =  0.08333333333333333\n",
      "P(20) =  0.05\n"
     ]
    }
   ],
   "source": [
    "for die in dice:\n",
    "    print('P({}) = '.format(die),1/die)"
   ]
  },
  {
   "cell_type": "code",
   "execution_count": 20,
   "metadata": {},
   "outputs": [],
   "source": [
    "total = .125+.1+(1/12)+.05"
   ]
  },
  {
   "cell_type": "code",
   "execution_count": 22,
   "metadata": {},
   "outputs": [],
   "source": [
    "P8 = .125/total\n",
    "P10 = .1/total\n",
    "P12 = (1/12)/total\n",
    "P20 = .05/total"
   ]
  },
  {
   "cell_type": "code",
   "execution_count": 23,
   "metadata": {},
   "outputs": [
    {
     "name": "stdout",
     "output_type": "stream",
     "text": [
      "0.3488372093023256\n",
      "0.27906976744186046\n",
      "0.23255813953488372\n",
      "0.13953488372093023\n"
     ]
    }
   ],
   "source": [
    "print(P8)\n",
    "print(P10)\n",
    "print(P12)\n",
    "print(P20)"
   ]
  },
  {
   "cell_type": "code",
   "execution_count": 24,
   "metadata": {},
   "outputs": [
    {
     "data": {
      "text/plain": [
       "1.0"
      ]
     },
     "execution_count": 24,
     "metadata": {},
     "output_type": "execute_result"
    }
   ],
   "source": [
    "P8 + P10 +P12 +P20"
   ]
  },
  {
   "cell_type": "code",
   "execution_count": 46,
   "metadata": {},
   "outputs": [],
   "source": [
    "def face_odds(result, dice):\n",
    "    odds = []\n",
    "    for die in dice:\n",
    "        if result > die:\n",
    "            odds.append(0)\n",
    "        else:\n",
    "            odds.append(1/die)\n",
    "    return odds\n",
    "\n",
    "def roll_die_from_box(result,dice = [4,6,8,10,12,20]):\n",
    "    \n",
    "    odds = face_odds(result,dice)\n",
    "    \n",
    "    for odd, die in zip(odds,dice):\n",
    "        print('P({}) = '.format(die),odd/sum(odds))\n",
    "    \n",
    "    "
   ]
  },
  {
   "cell_type": "code",
   "execution_count": 47,
   "metadata": {},
   "outputs": [
    {
     "name": "stdout",
     "output_type": "stream",
     "text": [
      "P(4) =  0.0\n",
      "P(6) =  0.0\n",
      "P(8) =  0.3488372093023256\n",
      "P(10) =  0.27906976744186046\n",
      "P(12) =  0.23255813953488372\n",
      "P(20) =  0.13953488372093023\n"
     ]
    }
   ],
   "source": [
    "roll_die_from_box(7)"
   ]
  },
  {
   "cell_type": "code",
   "execution_count": null,
   "metadata": {
    "collapsed": true
   },
   "outputs": [],
   "source": []
  }
 ],
 "metadata": {
  "kernelspec": {
   "display_name": "Python 3",
   "language": "python",
   "name": "python3"
  },
  "language_info": {
   "codemirror_mode": {
    "name": "ipython",
    "version": 3
   },
   "file_extension": ".py",
   "mimetype": "text/x-python",
   "name": "python",
   "nbconvert_exporter": "python",
   "pygments_lexer": "ipython3",
   "version": "3.6.3"
  }
 },
 "nbformat": 4,
 "nbformat_minor": 2
}
